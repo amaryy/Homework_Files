{
 "cells": [
  {
   "cell_type": "code",
   "execution_count": 1,
   "metadata": {},
   "outputs": [
    {
     "ename": "SyntaxError",
     "evalue": "invalid syntax (<ipython-input-1-e2146c9df41c>, line 1)",
     "output_type": "error",
     "traceback": [
      "\u001b[1;36m  File \u001b[1;32m\"<ipython-input-1-e2146c9df41c>\"\u001b[1;36m, line \u001b[1;32m1\u001b[0m\n\u001b[1;33m    Домашнее задание\u001b[0m\n\u001b[1;37m                   ^\u001b[0m\n\u001b[1;31mSyntaxError\u001b[0m\u001b[1;31m:\u001b[0m invalid syntax\n"
     ]
    }
   ],
   "source": [
    "Домашнее задание\n",
    "Переведите содержимое файла purchase_log.txt в словарь purchases вида:\n",
    "\n",
    "{'1840e0b9d4': 'Продукты', ...}\n",
    "Для каждого user_id в файле visit_log.csv добавьте третий столбец с категорией покупки (если покупка была).\n",
    "\n",
    "Запишите в файл funnel.csv визиты из файла visit_log.csv, в которых были покупки с указанием категории.\n",
    "\n",
    "Учтите условия на данные:\n",
    "\n",
    "содержимое purchase_log.txt помещается в оперативную память компьютера\n",
    "содержимое visit_log.csv - нет; используйте только построчную обработку этого файла\n"
   ]
  },
  {
   "cell_type": "code",
   "execution_count": 5,
   "metadata": {},
   "outputs": [],
   "source": [
    "import json"
   ]
  },
  {
   "cell_type": "code",
   "execution_count": null,
   "metadata": {},
   "outputs": [],
   "source": [
    "import csv"
   ]
  },
  {
   "cell_type": "code",
   "execution_count": 80,
   "metadata": {},
   "outputs": [],
   "source": [
    "purchase_dict={}\n",
    "with open('purchase_log.txt', encoding='utf-8') as f:\n",
    "        my_lines = f.readlines()\n",
    "        a= my_lines\n",
    "        #print(a)\n",
    "        for el in a:\n",
    "            b=el.strip()\n",
    "            #print(b)\n",
    "            p_dict=json.loads(b)\n",
    "            user = p_dict['user_id']\n",
    "            cat = p_dict['category']\n",
    "            purchase_dict.setdefault(user,cat)\n",
    "        #print(purchase_dict)\n",
    "            "
   ]
  },
  {
   "cell_type": "code",
   "execution_count": 81,
   "metadata": {
    "scrolled": false
   },
   "outputs": [],
   "source": [
    "#готово\n",
    "with open('funnel.csv', 'w', newline=\"\") as new_file:\n",
    "    for i in open('visit_log.csv','r'):\n",
    "        #print(i.strip())\n",
    "        purchase_list=i.strip().split(',')\n",
    "        #print (purchase_list)\n",
    "        if purchase_list[0] in purchase_dict:\n",
    "            purchase_cat=purchase_dict.get(purchase_list[0])\n",
    "            purchase_list.append(purchase_cat)\n",
    "            #print(purchase_list)\n",
    "            writer = csv.writer(new_file)\n",
    "            writer.writerow(purchase_list)  "
   ]
  },
  {
   "cell_type": "code",
   "execution_count": null,
   "metadata": {},
   "outputs": [],
   "source": []
  }
 ],
 "metadata": {
  "kernelspec": {
   "display_name": "Python 3",
   "language": "python",
   "name": "python3"
  },
  "language_info": {
   "codemirror_mode": {
    "name": "ipython",
    "version": 3
   },
   "file_extension": ".py",
   "mimetype": "text/x-python",
   "name": "python",
   "nbconvert_exporter": "python",
   "pygments_lexer": "ipython3",
   "version": "3.7.4"
  }
 },
 "nbformat": 4,
 "nbformat_minor": 2
}
